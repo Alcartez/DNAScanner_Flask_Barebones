{
 "cells": [
  {
   "cell_type": "code",
   "execution_count": 16,
   "metadata": {},
   "outputs": [
    {
     "name": "stdout",
     "output_type": "stream",
     "text": [
      "['Nucleotide' 'Bendability' 'Nucleosomal_Positioning'\n",
      " 'B_form_to_A_form_transition']\n"
     ]
    }
   ],
   "source": [
    "import pandas as pd\n",
    "param_input_df = pd.read_csv(r'Parameter_Files\\Parameter_Files_Trinucleotide - Sheet1.csv')\n",
    "#pd.DataFrame(pd.read_csv(r'Parameter_Files\\Parameter_Sheet_Dinucleotide - Sheet1.csv'),param_selections)\n",
    "print(param_input_df.columns.values)"
   ]
  },
  {
   "cell_type": "code",
   "execution_count": 17,
   "metadata": {},
   "outputs": [],
   "source": [
    "param_selections = ['Arule', 'Trule', 'Grule' ,'Crule', 'ATrule' , 'Bendability']\n",
    "\n",
    "\n",
    "def param_cleaner(param_input_df , param_selections):\n",
    "    \n",
    "    param_selections = set(param_selections).intersection(set(param_input_df.columns.values.tolist()))\n",
    "    param_selections = list(param_selections)\n",
    "    param_selections.insert(0,'Nucleotide')\n",
    "    new_param_df = param_input_df[list(param_selections)]\n",
    "    return new_param_df"
   ]
  },
  {
   "cell_type": "code",
   "execution_count": 19,
   "metadata": {},
   "outputs": [
    {
     "name": "stdout",
     "output_type": "stream",
     "text": [
      "\n",
      "Importing parameters ...\n",
      "Di : Index(['Nucleotide', 'Trule', 'Arule', 'Grule', 'ATrule', 'Crule'], dtype='object')\n",
      "\n",
      "Importing parameters ...\n",
      "Tri : Index(['Nucleotide', 'Bendability'], dtype='object')\n"
     ]
    }
   ],
   "source": [
    "for n in range(2,4):\n",
    "    ## User Inputs ##\n",
    "    print(\"\\nImporting parameters ...\")\n",
    "    if n == 2:\n",
    "        param_input_df = pd.read_csv(r'Parameter_Files\\Parameter_Sheet_Dinucleotide - Sheet1.csv')\n",
    "        param_input_df = param_cleaner(param_input_df,param_selections)\n",
    "        print(\"Di :\" ,param_input_df.columns)\n",
    "        nString = \"Di\"\n",
    "        repairIndex = 1\n",
    "    elif n == 3:\n",
    "        param_input_df = pd.read_csv(r'Parameter_Files\\Parameter_Files_Trinucleotide - Sheet1.csv')\n",
    "        param_input_df = param_cleaner(param_input_df,param_selections)\n",
    "        print(\"Tri :\" , param_input_df.columns)\n",
    "        nString = \"Tri\"\n",
    "        repairIndex = 1\n",
    "    else :\n",
    "        print(\"\\n DON'T BREAK MY SCRIPT!!\") \n"
   ]
  },
  {
   "cell_type": "code",
   "execution_count": 4,
   "metadata": {},
   "outputs": [
    {
     "name": "stdout",
     "output_type": "stream",
     "text": [
      "['Nucleotide', 'Bendability', 'Nucleosomal_Positioning', 'B_form_to_A_form_transition', 'Arule', 'Trule', 'Grule', 'Crule', 'ATrule', 'Protein_induced_form', 'Stabilizing_energy_ZDNA', 'Bending_Stiffness', 'Duplex_Stability_Free_Energy', 'DNA_denaturation', 'Propeller_Twist', 'Stacking_Energy']\n"
     ]
    }
   ],
   "source": [
    "import os\n",
    "import glob\n",
    "import pandas as pd\n",
    "param_path = r'Parameter_Files/'\n",
    "\n",
    "res = []\n",
    "param_select_list = []\n",
    "\n",
    "for file in glob.glob(param_path+\"*\"):\n",
    "    file_content_list = pd.read_csv(file).columns.values.tolist()\n",
    "    for item in file_content_list: \n",
    "        if item not in param_select_list: \n",
    "            param_select_list.append(item) \n",
    "\n",
    "print(param_select_list)"
   ]
  },
  {
   "cell_type": "code",
   "execution_count": 4,
   "metadata": {},
   "outputs": [
    {
     "name": "stdout",
     "output_type": "stream",
     "text": [
      "['Parameter_Files\\\\Parameter_Files_Trinucleotide - Sheet1.csv', 'Parameter_Files\\\\Parameter_Sheet_Dinucleotide - Sheet1.csv']\n"
     ]
    },
    {
     "data": {
      "text/plain": [
       "list"
      ]
     },
     "execution_count": 4,
     "metadata": {},
     "output_type": "execute_result"
    }
   ],
   "source": [
    "import glob\n",
    "print(glob.glob(\"Parameter_Files/*\"))\n",
    "type(glob.glob(\"Parameter_Files/*\"))\n"
   ]
  }
 ],
 "metadata": {
  "kernelspec": {
   "display_name": "Python 3.10.7 64-bit (microsoft store)",
   "language": "python",
   "name": "python3"
  },
  "language_info": {
   "codemirror_mode": {
    "name": "ipython",
    "version": 3
   },
   "file_extension": ".py",
   "mimetype": "text/x-python",
   "name": "python",
   "nbconvert_exporter": "python",
   "pygments_lexer": "ipython3",
   "version": "3.10.7"
  },
  "orig_nbformat": 4,
  "vscode": {
   "interpreter": {
    "hash": "f1e60438be99f3f7920a16f53f5e4171a8d9d8d795881951e5dd5fe0b923b7da"
   }
  }
 },
 "nbformat": 4,
 "nbformat_minor": 2
}
